{
 "cells": [
  {
   "cell_type": "markdown",
   "metadata": {},
   "source": [
    "# Table of Contents\n",
    "1. [Getting Started (This page)](Getting Started.ipynb)\n",
    "2. [Testing the environment](notebooks/Environment Test.ipynb)\n",
    "\n",
    "# Introductions\n",
    "Welcome to the \"Interactive Python Notebooks for Scientific Computing\". The goal of this series of notebooks is to take a scientist from being knowledgeable about the Python language, to being useful with Python in a research environment. \n",
    "\n",
    "\n",
    "# Setup\n",
    "## Install Anaconda    \n",
    "For these notebooks we will use the Anaconda Python distribution to make things much easier. This is not strictly necessary but will save us time fighting with package dependencies. Please go to [Anaconda Downloads](https://www.anaconda.com/download/) and download the appropriate version of anaconda for your system and install it. It can be installed in a user account without requiring root priveleges making it great for testing out.     \n",
    "When you are done, run the conda command at the commandline to verify it is installed and working.\n",
    "\n",
    "## Setup Virtual Environment    \n",
    "The next thing we will do is setup a \"virtual environment\". This is a neat module provided by anaconda that allows you to customize your python installation in a sandbox, without affecting the system Python. We will use this at several places throughout these notebooks. In particular, it enables us to specify the libraries we want installed for you, and just create a custom defined environment that is easy to install. We do this by listing the configuration in a file called [environment.yml](environment.yml).   \n",
    "\n",
    "We can use this to set up a quick and easy Python environment with all of the libraries we need for these notebooks. We will denote lines that you type in at a command prompt with a leading dollar sign , but you do not need to type the actual dollar symbol. On the commandline go to the directory you downloaded this to and run    \n",
    "\n",
    "```bash\n",
    "$ conda create -f environment.yml    \n",
    "```    \n",
    "\n",
    "This will list off a large number of packages being installed. At the end of this, you will see a line asking you to run source activate quickpy, and another line mentioning to undo that, you can run source deactivate. At this point, let's run   \n",
    "\n",
    "```bash\n",
    "$ source activate quickpy    \n",
    "```\n",
    "\n",
    "Note If you are using windows, this will be   \n",
    "```bash\n",
    "$ activate quickpy\n",
    "```    \n",
    "instead.    \n",
    "This will enter our environment. What is actually happening is this is prepending the executable for python and conda onto your shell path variable. You will also notice your prompt change to have (quickpy) before it. This is to remind you that you are in the quickpy virtual environment. \n",
    "\n",
    "# How to use these notebooks."
   ]
  },
  {
   "cell_type": "code",
   "execution_count": null,
   "metadata": {
    "collapsed": true
   },
   "outputs": [],
   "source": []
  }
 ],
 "metadata": {
  "kernelspec": {
   "display_name": "Python 3",
   "language": "python",
   "name": "python3"
  },
  "language_info": {
   "codemirror_mode": {
    "name": "ipython",
    "version": 3
   },
   "file_extension": ".py",
   "mimetype": "text/x-python",
   "name": "python",
   "nbconvert_exporter": "python",
   "pygments_lexer": "ipython3",
   "version": "3.6.2"
  }
 },
 "nbformat": 4,
 "nbformat_minor": 2
}
